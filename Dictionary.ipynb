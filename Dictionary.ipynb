{
 "cells": [
  {
   "cell_type": "markdown",
   "id": "78003b07",
   "metadata": {},
   "source": [
    "https://www.tutorjoes.in/python_programming_tutorial/dictionary_programs_in_python"
   ]
  },
  {
   "cell_type": "markdown",
   "id": "4abe3afe",
   "metadata": {},
   "source": [
    "https://www.codingbroz.com/python-hackerrank-solutions/"
   ]
  },
  {
   "cell_type": "code",
   "execution_count": null,
   "id": "30db81b7",
   "metadata": {},
   "outputs": [],
   "source": [
    "operator module\n",
    "from pprint import pprint"
   ]
  },
  {
   "cell_type": "code",
   "execution_count": null,
   "id": "0eaf84fa",
   "metadata": {},
   "outputs": [],
   "source": []
  },
  {
   "cell_type": "markdown",
   "id": "50f75077",
   "metadata": {},
   "source": [
    "### program to add a key to a dictionary"
   ]
  },
  {
   "cell_type": "code",
   "execution_count": 24,
   "id": "4cd694cd",
   "metadata": {},
   "outputs": [
    {
     "name": "stdout",
     "output_type": "stream",
     "text": [
      "{'Name': 'Ram', 'Age': 23}\n",
      "{'Name': 'Ram', 'Age': 23, 'City': 'Salem'}\n",
      "{'Name': 'Ram', 'Age': 23, 'City': 'Salem', 'Gender': 'Male'}\n"
     ]
    }
   ],
   "source": [
    "d = {\"Name\":\"Ram\" , \"Age\":23}\n",
    "print(d)\n",
    "d.update({\"City\":\"Salem\"})\n",
    "print(d)\n",
    "d[\"Gender\"]=\"Male\"\n",
    "print(d)"
   ]
  },
  {
   "cell_type": "markdown",
   "id": "a475eb83",
   "metadata": {},
   "source": [
    "### Python script to sort (ascending and descending) a dictionary by value\n",
    "\n",
    "sorted function takes two arguments: d.items() which returns a list of tuple pairs from the dictionary, and key=operator.itemgetter(1), which specifies that the values (the second item in each tuple pair) should be used as the sort key"
   ]
  },
  {
   "cell_type": "code",
   "execution_count": 25,
   "id": "93cefccb",
   "metadata": {},
   "outputs": [
    {
     "name": "stdout",
     "output_type": "stream",
     "text": [
      "Original dictionary :  {1: 2, 3: 4, 4: 3, 2: 1, 0: 0}\n",
      "Ascending order :  [(0, 0), (2, 1), (1, 2), (4, 3), (3, 4)]\n",
      "Descending order :  {3: 4, 4: 3, 1: 2, 2: 1, 0: 0}\n"
     ]
    }
   ],
   "source": [
    "import operator\n",
    "d = {1: 2, 3: 4, 4: 3, 2: 1, 0: 0}\n",
    "print('Original dictionary : ',d)\n",
    "sd = sorted(d.items(), key=operator.itemgetter(1))\n",
    "print('Ascending order : ',sd)\n",
    "sd = dict( sorted(d.items(), key=operator.itemgetter(1),reverse=True))\n",
    "print('Descending order : ',sd)"
   ]
  },
  {
   "cell_type": "code",
   "execution_count": 26,
   "id": "9a9c7607",
   "metadata": {},
   "outputs": [
    {
     "name": "stdout",
     "output_type": "stream",
     "text": [
      "Original dictionary :  {1: 2, 3: 4, 4: 3, 2: 1, 0: 0}\n",
      "Ascending order :  [(0, 0), (1, 2), (2, 1), (3, 4), (4, 3)]\n",
      "Descending order :  {4: 3, 3: 4, 2: 1, 1: 2, 0: 0}\n"
     ]
    }
   ],
   "source": [
    "################# by keys \n",
    "d = {1: 2, 3: 4, 4: 3, 2: 1, 0: 0}\n",
    "print('Original dictionary : ',d)\n",
    "sd = sorted(d.items(), key=operator.itemgetter(0))\n",
    "print('Ascending order : ',sd)\n",
    "sd = dict( sorted(d.items(), key=operator.itemgetter(0),reverse=True))\n",
    "print('Descending order : ',sd)"
   ]
  },
  {
   "cell_type": "markdown",
   "id": "e9a38fc9",
   "metadata": {},
   "source": [
    "### Sort Counter by value\n"
   ]
  },
  {
   "cell_type": "raw",
   "id": "50b61746",
   "metadata": {},
   "source": [
    " Counter class from the collections module in Python. It creates a Counter object x using the dictionary he most_common method is then used on the Counter object, which returns a list of tuples where each tuple is a key-value pair from the Counter object in the order of their count, from the most common to the least. The returned list contains the elements and their count in the Counter object."
   ]
  },
  {
   "cell_type": "code",
   "execution_count": 27,
   "id": "191ffcbd",
   "metadata": {},
   "outputs": [
    {
     "name": "stdout",
     "output_type": "stream",
     "text": [
      "[('Tamil', 92), ('Science', 89), ('Social', 89), ('Math', 88), ('English', 56)]\n"
     ]
    }
   ],
   "source": [
    "from collections import Counter\n",
    "x = Counter({'Tamil':92, 'Math':88,'Science':89, 'Social':89, 'English':56})\n",
    "print(x.most_common())"
   ]
  },
  {
   "cell_type": "markdown",
   "id": "3598f040",
   "metadata": {},
   "source": [
    "### program to concatenate following dictionaries to create a new one"
   ]
  },
  {
   "cell_type": "code",
   "execution_count": 28,
   "id": "d03cb268",
   "metadata": {},
   "outputs": [
    {
     "name": "stdout",
     "output_type": "stream",
     "text": [
      "{'Name': 'Ram', 'Age': 23, 'City': 'Salem', 'Gender': 'Male', 'Mark': 450}\n"
     ]
    }
   ],
   "source": [
    "d1={\"Name\":\"Ram\" , \"Age\":23}\n",
    "d2={\"City\": \"Salem\", \"Gender\": \"Male\"}\n",
    "d3={\"Mark\":450}\n",
    "d4 = {}\n",
    "for d in (d1, d2, d3): d4.update(d)\n",
    "print(d4)"
   ]
  },
  {
   "cell_type": "markdown",
   "id": "92df2067",
   "metadata": {},
   "source": [
    "### python program to iterate over dictionaries using for loops"
   ]
  },
  {
   "cell_type": "code",
   "execution_count": 29,
   "id": "608b4943",
   "metadata": {},
   "outputs": [
    {
     "name": "stdout",
     "output_type": "stream",
     "text": [
      "Name  :  Ram\n",
      "Age  :  23\n",
      "City  :  Salem\n",
      "Gender  :  Male\n",
      "----------------------------------\n",
      "('Name', 'Ram')\n",
      "('Age', 23)\n",
      "('City', 'Salem')\n",
      "('Gender', 'Male')\n"
     ]
    }
   ],
   "source": [
    "d={\"Name\":\"Ram\" , \"Age\":23 , \"City\": \"Salem\", \"Gender\": \"Male\"}\n",
    " \n",
    "for k, v in d.items():\n",
    "    print(k,' : ',v)\n",
    "print(\"----------------------------------\")\n",
    "for i in d.items():\n",
    "    print(i)"
   ]
  },
  {
   "cell_type": "markdown",
   "id": "f78d3290",
   "metadata": {},
   "source": [
    "### Python script to generate and print a dictionary that contains a number (between 1 and n) in the form (x, x*x)"
   ]
  },
  {
   "cell_type": "code",
   "execution_count": 32,
   "id": "67fc0bc3",
   "metadata": {},
   "outputs": [
    {
     "name": "stdout",
     "output_type": "stream",
     "text": [
      "Enter the Limit : 5\n",
      "{1: 1, 2: 4, 3: 9, 4: 16, 5: 25}\n"
     ]
    }
   ],
   "source": [
    "l=int(input(\"Enter the Limit : \"))\n",
    "d = dict()\n",
    " \n",
    "for x in range(1,l+1):\n",
    "    d[x]=x*x\n",
    "print(d) "
   ]
  },
  {
   "cell_type": "code",
   "execution_count": 33,
   "id": "6814590b",
   "metadata": {},
   "outputs": [
    {
     "name": "stdout",
     "output_type": "stream",
     "text": [
      "Enter the Limit: 5\n",
      "{1: 1, 2: 4, 3: 9, 4: 16, 5: 25}\n"
     ]
    }
   ],
   "source": [
    "l = int(input(\"Enter the Limit: \"))\n",
    "d = {x: x * x for x in range(1,l+1)}\n",
    "print(d)"
   ]
  },
  {
   "cell_type": "markdown",
   "id": "abbd438f",
   "metadata": {},
   "source": [
    "### merge two Python dictionaries"
   ]
  },
  {
   "cell_type": "code",
   "execution_count": 34,
   "id": "73ae22f0",
   "metadata": {},
   "outputs": [
    {
     "name": "stdout",
     "output_type": "stream",
     "text": [
      "{'a': 1, 'b': 2, 'c': 3, 'd': 4}\n",
      "----------------------------------\n",
      "{'a': 1, 'b': 2, 'c': 3, 'd': 4}\n",
      "----------------------------------\n",
      "{'a': 1, 'b': 2, 'c': 3, 'd': 4}\n"
     ]
    }
   ],
   "source": [
    "def merge_dicts(dict1, dict2):\n",
    "    return {**dict1, **dict2}\n",
    "\n",
    "# Example dictionaries\n",
    "dict1 = {'a': 1, 'b': 2}\n",
    "dict2 = {'c': 3, 'd': 4}\n",
    "\n",
    "merged_dict = merge_dicts(dict1, dict2)\n",
    "print(merged_dict)\n",
    "\n",
    "print(\"----------------------------------\")\n",
    "\n",
    "dict3 ={}\n",
    "for d in (dict1,dict2): dict3.update(d)\n",
    "print(dict3)\n",
    "\n",
    "print(\"----------------------------------\")\n",
    "\n",
    "res = dict1.copy()\n",
    "res.update(dict2)\n",
    "print(res)"
   ]
  },
  {
   "cell_type": "markdown",
   "id": "f2b7709d",
   "metadata": {},
   "source": [
    "### sum all the items in a dictionary"
   ]
  },
  {
   "cell_type": "code",
   "execution_count": 35,
   "id": "e7e110b2",
   "metadata": {},
   "outputs": [
    {
     "name": "stdout",
     "output_type": "stream",
     "text": [
      "138\n"
     ]
    }
   ],
   "source": [
    "d = {1:23,2:45,3:-17,4:87}\n",
    "print(sum(d.values()))"
   ]
  },
  {
   "cell_type": "markdown",
   "id": "d0b92cf2",
   "metadata": {},
   "source": [
    "### Access dictionary key’s element by index"
   ]
  },
  {
   "cell_type": "code",
   "execution_count": 36,
   "id": "a5433a78",
   "metadata": {},
   "outputs": [
    {
     "name": "stdout",
     "output_type": "stream",
     "text": [
      "Name\n",
      "Age\n"
     ]
    }
   ],
   "source": [
    "student = {\"Name\": \"Pooja\", \"Age\":23, \"Gender\": \"Female\", \"City\": \"Salem\", \"Mark\":488}\n",
    "print(list(student)[0])\n",
    "print(list(student)[1])"
   ]
  },
  {
   "cell_type": "markdown",
   "id": "e7eeac22",
   "metadata": {},
   "source": [
    "### Drop empty Items from a given Dictionary"
   ]
  },
  {
   "cell_type": "code",
   "execution_count": 37,
   "id": "b5923cdc",
   "metadata": {},
   "outputs": [
    {
     "name": "stdout",
     "output_type": "stream",
     "text": [
      "Before Dropping : {'Name': 'Pooja', 'Age': 23, 'Gender': None, 'Mark': 488, 'City': None}\n",
      "After Dropping : {'Name': 'Pooja', 'Age': 23, 'Mark': 488}\n"
     ]
    }
   ],
   "source": [
    "student = {\"Name\": \"Pooja\", \"Age\":23, \"Gender\": None, \"Mark\":488, \"City\": None}\n",
    "print(\"Before Dropping :\",student)\n",
    "student1 = {key:value for (key, value) in student.items() if value is not None}\n",
    "print(\"After Dropping :\",student1)"
   ]
  },
  {
   "cell_type": "markdown",
   "id": "33899bf6",
   "metadata": {},
   "source": [
    "### Create a dictionary of keys a, b, and c"
   ]
  },
  {
   "cell_type": "code",
   "execution_count": 38,
   "id": "2d41ce6f",
   "metadata": {},
   "outputs": [
    {
     "name": "stdout",
     "output_type": "stream",
     "text": [
      "{'A': [1, 2, 3, 4, 5, 6, 7, 8, 9, 10], 'Y': [11, 12, 13, 14, 15, 16, 17, 18, 19, 20], 'Z': [21, 22, 23, 24, 25, 26, 27, 28, 29, 30]}\n"
     ]
    }
   ],
   "source": [
    "num = dict(A=list(range(1, 11)), Y=list(range(11, 21)), Z=list(range(21, 31)))\n",
    "print(num)"
   ]
  },
  {
   "cell_type": "markdown",
   "id": "4e0d1ef9",
   "metadata": {},
   "source": [
    "### pprint function from the pprint library is used to pretty-print the dictionary  to the console."
   ]
  },
  {
   "cell_type": "code",
   "execution_count": 39,
   "id": "356385e4",
   "metadata": {},
   "outputs": [
    {
     "name": "stdout",
     "output_type": "stream",
     "text": [
      "{'A': [1, 2, 3, 4, 5, 6, 7, 8, 9, 10],\n",
      " 'Y': [11, 12, 13, 14, 15, 16, 17, 18, 19, 20],\n",
      " 'Z': [21, 22, 23, 24, 25, 26, 27, 28, 29, 30]}\n"
     ]
    }
   ],
   "source": [
    "from pprint import pprint\n",
    "num = dict(A=list(range(1, 11)), Y=list(range(11, 21)), Z=list(range(21, 31)))\n",
    "pprint(num)"
   ]
  },
  {
   "cell_type": "markdown",
   "id": "eca01440",
   "metadata": {},
   "source": [
    "### Match key values in two dictionaries\n"
   ]
  },
  {
   "cell_type": "code",
   "execution_count": 40,
   "id": "620efc4e",
   "metadata": {},
   "outputs": [
    {
     "name": "stdout",
     "output_type": "stream",
     "text": [
      "Maths: 88 is present in both A and B\n",
      "Sceince: 97 is present in both A and B\n"
     ]
    }
   ],
   "source": [
    "A = {'Tamil': 92, 'English': 56, 'Maths': 88, 'Sceince': 97, 'Social': 89}\n",
    "B= {'Tamil': 78, 'English': 68, 'Maths': 88, 'Sceince': 97, 'Social': 56}\n",
    "for (key, value) in set(A.items()) & set(B.items()):\n",
    "    print('%s: %s is present in both A and B' % (key, value))"
   ]
  },
  {
   "cell_type": "markdown",
   "id": "24356972",
   "metadata": {},
   "source": [
    "### program to count number of items in a dictionary value that is a list\n"
   ]
  },
  {
   "cell_type": "code",
   "execution_count": 41,
   "id": "eedbf279",
   "metadata": {},
   "outputs": [
    {
     "name": "stdout",
     "output_type": "stream",
     "text": [
      "Number of Items in a Dictionary : 10\n"
     ]
    }
   ],
   "source": [
    "d =  {'M1': [67,79,90,73,36], 'M2': [89,67,84], 'M3': [82,57]}\n",
    "tot = sum(map(len, d.values()))\n",
    "print(\"Number of Items in a Dictionary :\",tot)"
   ]
  },
  {
   "cell_type": "code",
   "execution_count": 43,
   "id": "e36f1a76",
   "metadata": {},
   "outputs": [
    {
     "name": "stdout",
     "output_type": "stream",
     "text": [
      "3\n"
     ]
    }
   ],
   "source": [
    "print(len(d.values()))"
   ]
  },
  {
   "cell_type": "markdown",
   "id": "fae97204",
   "metadata": {},
   "source": [
    "### program to check multiple keys exists in a dictionary"
   ]
  },
  {
   "cell_type": "code",
   "execution_count": 45,
   "id": "73e5405e",
   "metadata": {},
   "outputs": [
    {
     "name": "stdout",
     "output_type": "stream",
     "text": [
      "True\n",
      "False\n"
     ]
    }
   ],
   "source": [
    "# all elements in the set on the right side are also in the set on the left side.\n",
    "student = {\n",
    "  'name': 'Ram',\n",
    "  'age': 23,\n",
    "  'city': 'Salem'\n",
    "}\n",
    "print(student.keys() >= {'age', 'name','city'})\n",
    "print(student.keys() >= {'City', 'Ram'}) # ram is value"
   ]
  },
  {
   "cell_type": "markdown",
   "id": "780cd37d",
   "metadata": {},
   "source": [
    "### print a dictionary line by line"
   ]
  },
  {
   "cell_type": "code",
   "execution_count": 46,
   "id": "a84ffede",
   "metadata": {},
   "outputs": [
    {
     "name": "stdout",
     "output_type": "stream",
     "text": [
      "Sam\n",
      "M1 : 89\n",
      "M2 : 56\n",
      "M3 : 89\n",
      "Suresh\n",
      "M1 : 49\n",
      "M2 : 96\n",
      "M3 : 89\n"
     ]
    }
   ],
   "source": [
    "sub = {\"Sam\":{\"M1\":89,\"M2\":56,\"M3\":89},\n",
    "        \"Suresh\":{\"M1\":49,\"M2\":96,\"M3\":89}}\n",
    "for a in sub:\n",
    "    print(a)\n",
    "    for b in sub[a]:\n",
    "        print (b,\":\",sub[a][b])"
   ]
  },
  {
   "cell_type": "markdown",
   "id": "db4605eb",
   "metadata": {},
   "source": [
    "### Convert two lists into a dictionary"
   ]
  },
  {
   "cell_type": "code",
   "execution_count": 48,
   "id": "bff1ea13",
   "metadata": {},
   "outputs": [
    {
     "name": "stdout",
     "output_type": "stream",
     "text": [
      "{'Three': 1, 'Two': 2, 'Five': 3, 'Four': 4, 'One': 5}\n"
     ]
    }
   ],
   "source": [
    "keys = {\"One\", \"Two\", \"Three\", \"Four\", \"Five\"}\n",
    "values = {1, 2, 3, 4, 5} # if we put list here [] then also work same here\n",
    " \n",
    "res = dict(zip(keys, values))\n",
    "print(res)"
   ]
  },
  {
   "cell_type": "markdown",
   "id": "84585509",
   "metadata": {},
   "source": [
    "### program to Initialize dictionary with default values\n"
   ]
  },
  {
   "cell_type": "raw",
   "id": "d5d0c7a6",
   "metadata": {},
   "source": [
    "##### The fromkeys method of the dict class is then used to create a new dictionary with the keys from the list stu and the values from the dictionary defaults. The resulting dictionary is stored in the variable \"result\""
   ]
  },
  {
   "cell_type": "code",
   "execution_count": 50,
   "id": "a0d1a83b",
   "metadata": {},
   "outputs": [
    {
     "name": "stdout",
     "output_type": "stream",
     "text": [
      "{'Pooja': {'Department': 'BCA', 'designation': 'Student'},\n",
      " 'Ram': {'Department': 'BCA', 'designation': 'Student'},\n",
      " 'Sam': {'Department': 'BCA', 'designation': 'Student'},\n",
      " 'Siva': {'Department': 'BCA', 'designation': 'Student'}}\n"
     ]
    }
   ],
   "source": [
    "stu = [\"Siva\", \"Sam\", \"Ram\", \"Pooja\"]\n",
    "defaults = {\"designation\": \"Student\", \"Department\": \"BCA\"}\n",
    " \n",
    "result = dict.fromkeys(stu, defaults)\n",
    "pprint(result)"
   ]
  },
  {
   "cell_type": "code",
   "execution_count": 51,
   "id": "d44566cb",
   "metadata": {},
   "outputs": [
    {
     "name": "stdout",
     "output_type": "stream",
     "text": [
      "\n",
      "Siva : {'designation': 'Student', 'Department': 'BCA'}\n"
     ]
    }
   ],
   "source": [
    "# Individual data\n",
    "print(\"\\nSiva :\",result[\"Siva\"])"
   ]
  },
  {
   "cell_type": "markdown",
   "id": "85280f1a",
   "metadata": {},
   "source": [
    "### Create a dictionary by extracting the keys from a given dictionary\n"
   ]
  },
  {
   "cell_type": "code",
   "execution_count": 52,
   "id": "a8ace752",
   "metadata": {},
   "outputs": [
    {
     "name": "stdout",
     "output_type": "stream",
     "text": [
      "{'Name': 'Tara', 'RollNo': 130046, 'Mark': 458}\n"
     ]
    }
   ],
   "source": [
    "student = { \n",
    "  \"Name\": \"Tara\",\n",
    "  \"RollNo\":130046, \n",
    "  \"Mark\": 458, \n",
    "  \"City\": \"Chennai\" }\n",
    " \n",
    "keys = [\"Name\", \"RollNo\", \"Mark\"]\n",
    " \n",
    "n = {k: student[k] for k in keys}\n",
    "print(n)"
   ]
  },
  {
   "cell_type": "code",
   "execution_count": null,
   "id": "4898985e",
   "metadata": {},
   "outputs": [],
   "source": []
  },
  {
   "cell_type": "code",
   "execution_count": null,
   "id": "165aa2cf",
   "metadata": {},
   "outputs": [],
   "source": []
  },
  {
   "cell_type": "code",
   "execution_count": null,
   "id": "bc6ed2f9",
   "metadata": {},
   "outputs": [],
   "source": []
  },
  {
   "cell_type": "code",
   "execution_count": null,
   "id": "842e30d1",
   "metadata": {},
   "outputs": [],
   "source": []
  },
  {
   "cell_type": "code",
   "execution_count": null,
   "id": "ba1f0c34",
   "metadata": {},
   "outputs": [],
   "source": []
  },
  {
   "cell_type": "code",
   "execution_count": null,
   "id": "43ba74e1",
   "metadata": {},
   "outputs": [],
   "source": []
  },
  {
   "cell_type": "code",
   "execution_count": null,
   "id": "6bf66bf9",
   "metadata": {},
   "outputs": [],
   "source": []
  },
  {
   "cell_type": "code",
   "execution_count": null,
   "id": "2076eea1",
   "metadata": {},
   "outputs": [],
   "source": []
  },
  {
   "cell_type": "code",
   "execution_count": null,
   "id": "9219b91f",
   "metadata": {},
   "outputs": [],
   "source": []
  },
  {
   "cell_type": "code",
   "execution_count": null,
   "id": "d8f30786",
   "metadata": {},
   "outputs": [],
   "source": []
  },
  {
   "cell_type": "code",
   "execution_count": null,
   "id": "43db84dd",
   "metadata": {},
   "outputs": [],
   "source": []
  },
  {
   "cell_type": "code",
   "execution_count": null,
   "id": "5c9c17f2",
   "metadata": {},
   "outputs": [],
   "source": []
  },
  {
   "cell_type": "code",
   "execution_count": null,
   "id": "f590e521",
   "metadata": {},
   "outputs": [],
   "source": []
  },
  {
   "cell_type": "code",
   "execution_count": null,
   "id": "08a4a5b9",
   "metadata": {},
   "outputs": [],
   "source": []
  },
  {
   "cell_type": "code",
   "execution_count": null,
   "id": "3646e114",
   "metadata": {},
   "outputs": [],
   "source": []
  },
  {
   "cell_type": "code",
   "execution_count": null,
   "id": "4fff4b66",
   "metadata": {},
   "outputs": [],
   "source": []
  },
  {
   "cell_type": "code",
   "execution_count": null,
   "id": "ebfee928",
   "metadata": {},
   "outputs": [],
   "source": []
  },
  {
   "cell_type": "code",
   "execution_count": null,
   "id": "607699e1",
   "metadata": {},
   "outputs": [],
   "source": []
  },
  {
   "cell_type": "code",
   "execution_count": null,
   "id": "18a27ef8",
   "metadata": {},
   "outputs": [],
   "source": []
  },
  {
   "cell_type": "code",
   "execution_count": null,
   "id": "c38c1784",
   "metadata": {},
   "outputs": [],
   "source": []
  },
  {
   "cell_type": "code",
   "execution_count": null,
   "id": "b9e36e36",
   "metadata": {},
   "outputs": [],
   "source": []
  },
  {
   "cell_type": "code",
   "execution_count": null,
   "id": "71db413e",
   "metadata": {},
   "outputs": [],
   "source": []
  },
  {
   "cell_type": "code",
   "execution_count": null,
   "id": "de0fb6cc",
   "metadata": {},
   "outputs": [],
   "source": []
  },
  {
   "cell_type": "code",
   "execution_count": null,
   "id": "19e657e1",
   "metadata": {},
   "outputs": [],
   "source": []
  },
  {
   "cell_type": "code",
   "execution_count": null,
   "id": "7a870d84",
   "metadata": {},
   "outputs": [],
   "source": []
  },
  {
   "cell_type": "code",
   "execution_count": null,
   "id": "b4f06497",
   "metadata": {},
   "outputs": [],
   "source": []
  },
  {
   "cell_type": "code",
   "execution_count": null,
   "id": "bbe196ec",
   "metadata": {},
   "outputs": [],
   "source": []
  },
  {
   "cell_type": "code",
   "execution_count": null,
   "id": "73ea96af",
   "metadata": {},
   "outputs": [],
   "source": []
  },
  {
   "cell_type": "code",
   "execution_count": null,
   "id": "49dae6bf",
   "metadata": {},
   "outputs": [],
   "source": []
  },
  {
   "cell_type": "code",
   "execution_count": null,
   "id": "a0e9e948",
   "metadata": {},
   "outputs": [],
   "source": []
  },
  {
   "cell_type": "code",
   "execution_count": null,
   "id": "6193ead6",
   "metadata": {},
   "outputs": [],
   "source": []
  },
  {
   "cell_type": "code",
   "execution_count": null,
   "id": "50d49ce0",
   "metadata": {},
   "outputs": [],
   "source": []
  },
  {
   "cell_type": "code",
   "execution_count": null,
   "id": "821dc2ea",
   "metadata": {},
   "outputs": [],
   "source": []
  },
  {
   "cell_type": "code",
   "execution_count": null,
   "id": "e9bbc0d1",
   "metadata": {},
   "outputs": [],
   "source": []
  },
  {
   "cell_type": "code",
   "execution_count": null,
   "id": "6d78d125",
   "metadata": {},
   "outputs": [],
   "source": []
  },
  {
   "cell_type": "code",
   "execution_count": null,
   "id": "cc73697c",
   "metadata": {},
   "outputs": [],
   "source": []
  },
  {
   "cell_type": "code",
   "execution_count": null,
   "id": "8e3997e0",
   "metadata": {},
   "outputs": [],
   "source": []
  },
  {
   "cell_type": "code",
   "execution_count": null,
   "id": "b91e8bc3",
   "metadata": {},
   "outputs": [],
   "source": []
  },
  {
   "cell_type": "code",
   "execution_count": null,
   "id": "115e5c9c",
   "metadata": {},
   "outputs": [],
   "source": []
  },
  {
   "cell_type": "code",
   "execution_count": null,
   "id": "335fad66",
   "metadata": {},
   "outputs": [],
   "source": []
  },
  {
   "cell_type": "code",
   "execution_count": null,
   "id": "13462f7a",
   "metadata": {},
   "outputs": [],
   "source": []
  },
  {
   "cell_type": "code",
   "execution_count": null,
   "id": "fd7fce3b",
   "metadata": {},
   "outputs": [],
   "source": []
  },
  {
   "cell_type": "code",
   "execution_count": null,
   "id": "cff24e55",
   "metadata": {},
   "outputs": [],
   "source": []
  },
  {
   "cell_type": "code",
   "execution_count": null,
   "id": "63b521d2",
   "metadata": {},
   "outputs": [],
   "source": []
  },
  {
   "cell_type": "code",
   "execution_count": null,
   "id": "abc99718",
   "metadata": {},
   "outputs": [],
   "source": []
  },
  {
   "cell_type": "code",
   "execution_count": null,
   "id": "59a38433",
   "metadata": {},
   "outputs": [],
   "source": []
  },
  {
   "cell_type": "code",
   "execution_count": null,
   "id": "100ed0bd",
   "metadata": {},
   "outputs": [],
   "source": []
  },
  {
   "cell_type": "code",
   "execution_count": null,
   "id": "e0532df1",
   "metadata": {},
   "outputs": [],
   "source": []
  },
  {
   "cell_type": "code",
   "execution_count": null,
   "id": "8eca84a7",
   "metadata": {},
   "outputs": [],
   "source": []
  },
  {
   "cell_type": "code",
   "execution_count": null,
   "id": "e6c79656",
   "metadata": {},
   "outputs": [],
   "source": []
  },
  {
   "cell_type": "code",
   "execution_count": null,
   "id": "ab45207a",
   "metadata": {},
   "outputs": [],
   "source": []
  },
  {
   "cell_type": "code",
   "execution_count": null,
   "id": "2380d46f",
   "metadata": {},
   "outputs": [],
   "source": []
  },
  {
   "cell_type": "code",
   "execution_count": null,
   "id": "32c07822",
   "metadata": {},
   "outputs": [],
   "source": []
  },
  {
   "cell_type": "code",
   "execution_count": null,
   "id": "631e499c",
   "metadata": {},
   "outputs": [],
   "source": []
  },
  {
   "cell_type": "code",
   "execution_count": null,
   "id": "5fdd9c95",
   "metadata": {},
   "outputs": [],
   "source": []
  },
  {
   "cell_type": "code",
   "execution_count": null,
   "id": "ef52a015",
   "metadata": {},
   "outputs": [],
   "source": []
  },
  {
   "cell_type": "code",
   "execution_count": null,
   "id": "11f3bf55",
   "metadata": {},
   "outputs": [],
   "source": []
  },
  {
   "cell_type": "code",
   "execution_count": null,
   "id": "86e8edb4",
   "metadata": {},
   "outputs": [],
   "source": []
  },
  {
   "cell_type": "code",
   "execution_count": null,
   "id": "9c1f41dd",
   "metadata": {},
   "outputs": [],
   "source": []
  },
  {
   "cell_type": "code",
   "execution_count": null,
   "id": "1af561f5",
   "metadata": {},
   "outputs": [],
   "source": []
  },
  {
   "cell_type": "code",
   "execution_count": null,
   "id": "5e6ea61f",
   "metadata": {},
   "outputs": [],
   "source": []
  },
  {
   "cell_type": "code",
   "execution_count": null,
   "id": "f7ef7609",
   "metadata": {},
   "outputs": [],
   "source": []
  },
  {
   "cell_type": "code",
   "execution_count": null,
   "id": "69100e42",
   "metadata": {},
   "outputs": [],
   "source": []
  },
  {
   "cell_type": "code",
   "execution_count": null,
   "id": "81dab0d7",
   "metadata": {},
   "outputs": [],
   "source": []
  },
  {
   "cell_type": "code",
   "execution_count": null,
   "id": "1434c0d0",
   "metadata": {},
   "outputs": [],
   "source": []
  },
  {
   "cell_type": "code",
   "execution_count": null,
   "id": "368f0371",
   "metadata": {},
   "outputs": [],
   "source": []
  },
  {
   "cell_type": "code",
   "execution_count": null,
   "id": "aae00ca2",
   "metadata": {},
   "outputs": [],
   "source": []
  },
  {
   "cell_type": "code",
   "execution_count": null,
   "id": "008b3fa6",
   "metadata": {},
   "outputs": [],
   "source": []
  },
  {
   "cell_type": "code",
   "execution_count": null,
   "id": "85517977",
   "metadata": {},
   "outputs": [],
   "source": []
  },
  {
   "cell_type": "code",
   "execution_count": 22,
   "id": "d1389973",
   "metadata": {},
   "outputs": [
    {
     "name": "stdout",
     "output_type": "stream",
     "text": [
      "5\n",
      "harry\n",
      "35\n",
      "anuja\n",
      "35\n",
      "kirtee\n",
      "56\n",
      "anu\n",
      "35\n",
      "sami\n",
      "35\n",
      "kirtee\n"
     ]
    }
   ],
   "source": [
    "Result =[]\n",
    "scorelist = []\n",
    "\n",
    "if __name__ == '__main__':\n",
    "    for _ in range(int(input())):\n",
    "        name = input()\n",
    "        score = float(input())\n",
    "        Result+=[[name,score]]\n",
    "        scorelist+=[score]\n",
    "    b=sorted(list(set(scorelist)))[1] \n",
    "\n",
    "    for a,c in sorted(Result):\n",
    "        if c==b:\n",
    "            print(a)"
   ]
  },
  {
   "cell_type": "code",
   "execution_count": null,
   "id": "ec43223d",
   "metadata": {},
   "outputs": [],
   "source": []
  },
  {
   "cell_type": "code",
   "execution_count": null,
   "id": "5dfcb176",
   "metadata": {},
   "outputs": [],
   "source": []
  }
 ],
 "metadata": {
  "kernelspec": {
   "display_name": "Python 3 (ipykernel)",
   "language": "python",
   "name": "python3"
  },
  "language_info": {
   "codemirror_mode": {
    "name": "ipython",
    "version": 3
   },
   "file_extension": ".py",
   "mimetype": "text/x-python",
   "name": "python",
   "nbconvert_exporter": "python",
   "pygments_lexer": "ipython3",
   "version": "3.10.9"
  }
 },
 "nbformat": 4,
 "nbformat_minor": 5
}
