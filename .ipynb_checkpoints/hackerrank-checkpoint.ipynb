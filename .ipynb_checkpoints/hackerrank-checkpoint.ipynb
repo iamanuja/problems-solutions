{
 "cells": [
  {
   "cell_type": "code",
   "execution_count": 7,
   "id": "42f828cf",
   "metadata": {},
   "outputs": [
    {
     "name": "stdout",
     "output_type": "stream",
     "text": [
      "True\n"
     ]
    }
   ],
   "source": [
    "def leap(a):\n",
    "    is_leap = True\n",
    "    \n",
    "    if (a % 4 ==0) and (a % 100 !=0 or a%400==0):\n",
    "        return is_leap\n",
    "    else:\n",
    "        return False\n",
    "    \n",
    "a=leap(2004)\n",
    "print(a)"
   ]
  },
  {
   "cell_type": "code",
   "execution_count": 11,
   "id": "7e734af9",
   "metadata": {},
   "outputs": [
    {
     "name": "stdout",
     "output_type": "stream",
     "text": [
      "[[0, 0, 0], [0, 0, 1], [0, 1, 0], [0, 1, 1], [1, 0, 0], [1, 0, 1], [1, 1, 0]]\n"
     ]
    }
   ],
   "source": [
    "\n",
    "a=[[i,j,k] for i in range(0,2) for j in range(0,2) for k in range(0,2) if i+j+k < 3]\n",
    "print(a)"
   ]
  },
  {
   "cell_type": "code",
   "execution_count": 14,
   "id": "d0621ac1",
   "metadata": {},
   "outputs": [
    {
     "name": "stdout",
     "output_type": "stream",
     "text": [
      "2\n",
      "3\n",
      "1\n",
      "5\n",
      "[[0, 0, 0], [0, 0, 1], [0, 1, 0], [0, 1, 1], [0, 2, 0], [0, 2, 1], [0, 3, 0], [0, 3, 1], [1, 0, 0], [1, 0, 1], [1, 1, 0], [1, 1, 1], [1, 2, 0], [1, 2, 1], [1, 3, 0], [1, 3, 1], [2, 0, 0], [2, 0, 1], [2, 1, 0], [2, 1, 1], [2, 2, 0], [2, 2, 1], [2, 3, 0]]\n"
     ]
    }
   ],
   "source": [
    "def generate_coordinates(x, y, z, n):\n",
    "    # List comprehension to generate all possible coordinates\n",
    "    coordinates = [[i, j, k] for i in range(x + 1) for j in range(y + 1) for k in range(z + 1) if i+j+k <= n]\n",
    "    \n",
    "    # Filter out the coordinates that do not sum to n\n",
    "    \n",
    "\n",
    "    return coordinates\n",
    "\n",
    "if __name__ == \"__main__\":\n",
    "    x = int(input())\n",
    "    y = int(input())\n",
    "    z = int(input())\n",
    "    n = int(input())\n",
    "\n",
    "    result = generate_coordinates(x, y, z, n)\n",
    "    print(result)\n"
   ]
  },
  {
   "cell_type": "code",
   "execution_count": 15,
   "id": "ccefea05",
   "metadata": {},
   "outputs": [
    {
     "name": "stdout",
     "output_type": "stream",
     "text": [
      "another\n",
      "anuja\n"
     ]
    }
   ],
   "source": [
    "def generate_coordinates():\n",
    "    print(\"hello\")\n",
    "    \n",
    "re1=\"another\"\n",
    "print(re1)\n",
    "\n",
    "#### code is not printed if it is imported\n",
    "if __name__ == \"__main__\":\n",
    "    result =\"anuja\"\n",
    "    print(result)"
   ]
  },
  {
   "cell_type": "code",
   "execution_count": 1,
   "id": "04aa3e63",
   "metadata": {},
   "outputs": [
    {
     "name": "stdout",
     "output_type": "stream",
     "text": [
      "Enter the number of elements in the tuple: 2\n",
      "Enter space-separated integers: 5 4\n",
      "-4223833046794152182\n"
     ]
    }
   ],
   "source": [
    "if __name__ == \"__main__\":\n",
    "    n = int(input(\"Enter the number of elements in the tuple: \"))\n",
    "    elements = input(\"Enter space-separated integers: \")\n",
    "    t = tuple(map(int, elements.split()))\n",
    "    \n",
    "    result = hash(t)\n",
    "    print(result)"
   ]
  },
  {
   "cell_type": "code",
   "execution_count": 2,
   "id": "06c01790",
   "metadata": {},
   "outputs": [
    {
     "data": {
      "text/plain": [
       "(5, 4)"
      ]
     },
     "execution_count": 2,
     "metadata": {},
     "output_type": "execute_result"
    }
   ],
   "source": [
    "t"
   ]
  },
  {
   "cell_type": "code",
   "execution_count": 3,
   "id": "b3605eba",
   "metadata": {},
   "outputs": [
    {
     "ename": "SyntaxError",
     "evalue": "invalid syntax (1570819702.py, line 1)",
     "output_type": "error",
     "traceback": [
      "\u001b[1;36m  Cell \u001b[1;32mIn[3], line 1\u001b[1;36m\u001b[0m\n\u001b[1;33m    a=\"HackerRank.com presents /\"Pythonist 2/\"  \"\u001b[0m\n\u001b[1;37m                                 ^\u001b[0m\n\u001b[1;31mSyntaxError\u001b[0m\u001b[1;31m:\u001b[0m invalid syntax\n"
     ]
    }
   ],
   "source": [
    "a= '\"HackerRank.com presents \"Pythonist 2\" '\n",
    "# hACKERrANK.COM PRESENTS \"pYTHONIST 2\"\n",
    "a=[x.upper() if x.isupper() else x.lower for x in a ]\n",
    "print(a)"
   ]
  },
  {
   "cell_type": "code",
   "execution_count": null,
   "id": "bea1516a",
   "metadata": {},
   "outputs": [],
   "source": []
  }
 ],
 "metadata": {
  "kernelspec": {
   "display_name": "Python 3 (ipykernel)",
   "language": "python",
   "name": "python3"
  },
  "language_info": {
   "codemirror_mode": {
    "name": "ipython",
    "version": 3
   },
   "file_extension": ".py",
   "mimetype": "text/x-python",
   "name": "python",
   "nbconvert_exporter": "python",
   "pygments_lexer": "ipython3",
   "version": "3.10.9"
  }
 },
 "nbformat": 4,
 "nbformat_minor": 5
}
